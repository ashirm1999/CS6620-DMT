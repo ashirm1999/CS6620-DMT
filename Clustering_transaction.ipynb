{
  "nbformat": 4,
  "nbformat_minor": 0,
  "metadata": {
    "colab": {
      "provenance": []
    },
    "kernelspec": {
      "name": "python3",
      "display_name": "Python 3"
    },
    "language_info": {
      "name": "python"
    }
  },
  "cells": [
    {
      "cell_type": "markdown",
      "source": [
        "# Clustering"
      ],
      "metadata": {
        "id": "NGJ3kVil3k5F"
      }
    },
    {
      "cell_type": "markdown",
      "source": [
        "## The goal is that the objects in a group will be similar to one another and different from objects in the other groups."
      ],
      "metadata": {
        "id": "-MwPpy1A3yNl"
      }
    },
    {
      "cell_type": "code",
      "execution_count": null,
      "metadata": {
        "id": "XqIr5uM1Kuke"
      },
      "outputs": [],
      "source": [
        "import numpy as np # linear algebra\n",
        "import pandas as pd # data processing, CSV file I/O (e.g. pd.read_csv)\n",
        "\n",
        "import os"
      ]
    },
    {
      "cell_type": "code",
      "source": [
        "from google.colab import drive\n",
        "drive.mount('/content/drive')"
      ],
      "metadata": {
        "colab": {
          "base_uri": "https://localhost:8080/"
        },
        "id": "26Y2AP9gZSQ_",
        "outputId": "eaa381bb-4590-45b7-9a1e-fb942657f321"
      },
      "execution_count": null,
      "outputs": [
        {
          "output_type": "stream",
          "name": "stdout",
          "text": [
            "Drive already mounted at /content/drive; to attempt to forcibly remount, call drive.mount(\"/content/drive\", force_remount=True).\n"
          ]
        }
      ]
    },
    {
      "cell_type": "markdown",
      "source": [
        "## Loading and defining the methodology"
      ],
      "metadata": {
        "id": "XUKxrkTT35tg"
      }
    },
    {
      "cell_type": "code",
      "source": [
        "from sklearn.metrics import roc_auc_score,f1_score\n",
        "import os\n",
        "from sklearn.model_selection import train_test_split\n",
        "from sklearn.cluster import KMeans"
      ],
      "metadata": {
        "id": "Q0JcloCDM6xQ"
      },
      "execution_count": null,
      "outputs": []
    },
    {
      "cell_type": "code",
      "source": [
        "Train_df = pd.read_csv('/content/drive/MyDrive/dmt/train.csv')\n",
        "Train_df.head()"
      ],
      "metadata": {
        "colab": {
          "base_uri": "https://localhost:8080/",
          "height": 300
        },
        "id": "xOWz__RMNTQV",
        "outputId": "b6408cb5-f89b-4ccf-cf0b-7f9e2f47451a"
      },
      "execution_count": null,
      "outputs": [
        {
          "output_type": "execute_result",
          "data": {
            "text/plain": [
              "   ID_code  target    var_0   var_1    var_2   var_3    var_4   var_5   var_6  \\\n",
              "0  train_0       0   8.9255 -6.7863  11.9081  5.0930  11.4607 -9.2834  5.1187   \n",
              "1  train_1       0  11.5006 -4.1473  13.8588  5.3890  12.3622  7.0433  5.6208   \n",
              "2  train_2       0   8.6093 -2.7457  12.0805  7.8928  10.5825 -9.0837  6.9427   \n",
              "3  train_3       0  11.0604 -2.1518   8.9522  7.1957  12.5846 -1.8361  5.8428   \n",
              "4  train_4       0   9.8369 -1.4834  12.8746  6.6375  12.2772  2.4486  5.9405   \n",
              "\n",
              "     var_7  ...  var_190  var_191  var_192  var_193  var_194  var_195  \\\n",
              "0  18.6266  ...   4.4354   3.9642   3.1364   1.6910  18.5227  -2.3978   \n",
              "1  16.5338  ...   7.6421   7.7214   2.5837  10.9516  15.4305   2.0339   \n",
              "2  14.6155  ...   2.9057   9.7905   1.6704   1.6858  21.6042   3.1417   \n",
              "3  14.9250  ...   4.4666   4.7433   0.7178   1.4214  23.0347  -1.2706   \n",
              "4  19.2514  ...  -1.4905   9.5214  -0.1508   9.1942  13.2876  -1.5121   \n",
              "\n",
              "   var_196  var_197  var_198  var_199  \n",
              "0   7.8784   8.5635  12.7803  -1.0914  \n",
              "1   8.1267   8.7889  18.3560   1.9518  \n",
              "2  -6.5213   8.2675  14.7222   0.3965  \n",
              "3  -2.9275  10.2922  17.9697  -8.9996  \n",
              "4   3.9267   9.5031  17.9974  -8.8104  \n",
              "\n",
              "[5 rows x 202 columns]"
            ],
            "text/html": [
              "\n",
              "  <div id=\"df-6cd3ebd4-3da8-4e4e-9a2c-0a90a4978405\">\n",
              "    <div class=\"colab-df-container\">\n",
              "      <div>\n",
              "<style scoped>\n",
              "    .dataframe tbody tr th:only-of-type {\n",
              "        vertical-align: middle;\n",
              "    }\n",
              "\n",
              "    .dataframe tbody tr th {\n",
              "        vertical-align: top;\n",
              "    }\n",
              "\n",
              "    .dataframe thead th {\n",
              "        text-align: right;\n",
              "    }\n",
              "</style>\n",
              "<table border=\"1\" class=\"dataframe\">\n",
              "  <thead>\n",
              "    <tr style=\"text-align: right;\">\n",
              "      <th></th>\n",
              "      <th>ID_code</th>\n",
              "      <th>target</th>\n",
              "      <th>var_0</th>\n",
              "      <th>var_1</th>\n",
              "      <th>var_2</th>\n",
              "      <th>var_3</th>\n",
              "      <th>var_4</th>\n",
              "      <th>var_5</th>\n",
              "      <th>var_6</th>\n",
              "      <th>var_7</th>\n",
              "      <th>...</th>\n",
              "      <th>var_190</th>\n",
              "      <th>var_191</th>\n",
              "      <th>var_192</th>\n",
              "      <th>var_193</th>\n",
              "      <th>var_194</th>\n",
              "      <th>var_195</th>\n",
              "      <th>var_196</th>\n",
              "      <th>var_197</th>\n",
              "      <th>var_198</th>\n",
              "      <th>var_199</th>\n",
              "    </tr>\n",
              "  </thead>\n",
              "  <tbody>\n",
              "    <tr>\n",
              "      <th>0</th>\n",
              "      <td>train_0</td>\n",
              "      <td>0</td>\n",
              "      <td>8.9255</td>\n",
              "      <td>-6.7863</td>\n",
              "      <td>11.9081</td>\n",
              "      <td>5.0930</td>\n",
              "      <td>11.4607</td>\n",
              "      <td>-9.2834</td>\n",
              "      <td>5.1187</td>\n",
              "      <td>18.6266</td>\n",
              "      <td>...</td>\n",
              "      <td>4.4354</td>\n",
              "      <td>3.9642</td>\n",
              "      <td>3.1364</td>\n",
              "      <td>1.6910</td>\n",
              "      <td>18.5227</td>\n",
              "      <td>-2.3978</td>\n",
              "      <td>7.8784</td>\n",
              "      <td>8.5635</td>\n",
              "      <td>12.7803</td>\n",
              "      <td>-1.0914</td>\n",
              "    </tr>\n",
              "    <tr>\n",
              "      <th>1</th>\n",
              "      <td>train_1</td>\n",
              "      <td>0</td>\n",
              "      <td>11.5006</td>\n",
              "      <td>-4.1473</td>\n",
              "      <td>13.8588</td>\n",
              "      <td>5.3890</td>\n",
              "      <td>12.3622</td>\n",
              "      <td>7.0433</td>\n",
              "      <td>5.6208</td>\n",
              "      <td>16.5338</td>\n",
              "      <td>...</td>\n",
              "      <td>7.6421</td>\n",
              "      <td>7.7214</td>\n",
              "      <td>2.5837</td>\n",
              "      <td>10.9516</td>\n",
              "      <td>15.4305</td>\n",
              "      <td>2.0339</td>\n",
              "      <td>8.1267</td>\n",
              "      <td>8.7889</td>\n",
              "      <td>18.3560</td>\n",
              "      <td>1.9518</td>\n",
              "    </tr>\n",
              "    <tr>\n",
              "      <th>2</th>\n",
              "      <td>train_2</td>\n",
              "      <td>0</td>\n",
              "      <td>8.6093</td>\n",
              "      <td>-2.7457</td>\n",
              "      <td>12.0805</td>\n",
              "      <td>7.8928</td>\n",
              "      <td>10.5825</td>\n",
              "      <td>-9.0837</td>\n",
              "      <td>6.9427</td>\n",
              "      <td>14.6155</td>\n",
              "      <td>...</td>\n",
              "      <td>2.9057</td>\n",
              "      <td>9.7905</td>\n",
              "      <td>1.6704</td>\n",
              "      <td>1.6858</td>\n",
              "      <td>21.6042</td>\n",
              "      <td>3.1417</td>\n",
              "      <td>-6.5213</td>\n",
              "      <td>8.2675</td>\n",
              "      <td>14.7222</td>\n",
              "      <td>0.3965</td>\n",
              "    </tr>\n",
              "    <tr>\n",
              "      <th>3</th>\n",
              "      <td>train_3</td>\n",
              "      <td>0</td>\n",
              "      <td>11.0604</td>\n",
              "      <td>-2.1518</td>\n",
              "      <td>8.9522</td>\n",
              "      <td>7.1957</td>\n",
              "      <td>12.5846</td>\n",
              "      <td>-1.8361</td>\n",
              "      <td>5.8428</td>\n",
              "      <td>14.9250</td>\n",
              "      <td>...</td>\n",
              "      <td>4.4666</td>\n",
              "      <td>4.7433</td>\n",
              "      <td>0.7178</td>\n",
              "      <td>1.4214</td>\n",
              "      <td>23.0347</td>\n",
              "      <td>-1.2706</td>\n",
              "      <td>-2.9275</td>\n",
              "      <td>10.2922</td>\n",
              "      <td>17.9697</td>\n",
              "      <td>-8.9996</td>\n",
              "    </tr>\n",
              "    <tr>\n",
              "      <th>4</th>\n",
              "      <td>train_4</td>\n",
              "      <td>0</td>\n",
              "      <td>9.8369</td>\n",
              "      <td>-1.4834</td>\n",
              "      <td>12.8746</td>\n",
              "      <td>6.6375</td>\n",
              "      <td>12.2772</td>\n",
              "      <td>2.4486</td>\n",
              "      <td>5.9405</td>\n",
              "      <td>19.2514</td>\n",
              "      <td>...</td>\n",
              "      <td>-1.4905</td>\n",
              "      <td>9.5214</td>\n",
              "      <td>-0.1508</td>\n",
              "      <td>9.1942</td>\n",
              "      <td>13.2876</td>\n",
              "      <td>-1.5121</td>\n",
              "      <td>3.9267</td>\n",
              "      <td>9.5031</td>\n",
              "      <td>17.9974</td>\n",
              "      <td>-8.8104</td>\n",
              "    </tr>\n",
              "  </tbody>\n",
              "</table>\n",
              "<p>5 rows × 202 columns</p>\n",
              "</div>\n",
              "      <button class=\"colab-df-convert\" onclick=\"convertToInteractive('df-6cd3ebd4-3da8-4e4e-9a2c-0a90a4978405')\"\n",
              "              title=\"Convert this dataframe to an interactive table.\"\n",
              "              style=\"display:none;\">\n",
              "        \n",
              "  <svg xmlns=\"http://www.w3.org/2000/svg\" height=\"24px\"viewBox=\"0 0 24 24\"\n",
              "       width=\"24px\">\n",
              "    <path d=\"M0 0h24v24H0V0z\" fill=\"none\"/>\n",
              "    <path d=\"M18.56 5.44l.94 2.06.94-2.06 2.06-.94-2.06-.94-.94-2.06-.94 2.06-2.06.94zm-11 1L8.5 8.5l.94-2.06 2.06-.94-2.06-.94L8.5 2.5l-.94 2.06-2.06.94zm10 10l.94 2.06.94-2.06 2.06-.94-2.06-.94-.94-2.06-.94 2.06-2.06.94z\"/><path d=\"M17.41 7.96l-1.37-1.37c-.4-.4-.92-.59-1.43-.59-.52 0-1.04.2-1.43.59L10.3 9.45l-7.72 7.72c-.78.78-.78 2.05 0 2.83L4 21.41c.39.39.9.59 1.41.59.51 0 1.02-.2 1.41-.59l7.78-7.78 2.81-2.81c.8-.78.8-2.07 0-2.86zM5.41 20L4 18.59l7.72-7.72 1.47 1.35L5.41 20z\"/>\n",
              "  </svg>\n",
              "      </button>\n",
              "      \n",
              "  <style>\n",
              "    .colab-df-container {\n",
              "      display:flex;\n",
              "      flex-wrap:wrap;\n",
              "      gap: 12px;\n",
              "    }\n",
              "\n",
              "    .colab-df-convert {\n",
              "      background-color: #E8F0FE;\n",
              "      border: none;\n",
              "      border-radius: 50%;\n",
              "      cursor: pointer;\n",
              "      display: none;\n",
              "      fill: #1967D2;\n",
              "      height: 32px;\n",
              "      padding: 0 0 0 0;\n",
              "      width: 32px;\n",
              "    }\n",
              "\n",
              "    .colab-df-convert:hover {\n",
              "      background-color: #E2EBFA;\n",
              "      box-shadow: 0px 1px 2px rgba(60, 64, 67, 0.3), 0px 1px 3px 1px rgba(60, 64, 67, 0.15);\n",
              "      fill: #174EA6;\n",
              "    }\n",
              "\n",
              "    [theme=dark] .colab-df-convert {\n",
              "      background-color: #3B4455;\n",
              "      fill: #D2E3FC;\n",
              "    }\n",
              "\n",
              "    [theme=dark] .colab-df-convert:hover {\n",
              "      background-color: #434B5C;\n",
              "      box-shadow: 0px 1px 3px 1px rgba(0, 0, 0, 0.15);\n",
              "      filter: drop-shadow(0px 1px 2px rgba(0, 0, 0, 0.3));\n",
              "      fill: #FFFFFF;\n",
              "    }\n",
              "  </style>\n",
              "\n",
              "      <script>\n",
              "        const buttonEl =\n",
              "          document.querySelector('#df-6cd3ebd4-3da8-4e4e-9a2c-0a90a4978405 button.colab-df-convert');\n",
              "        buttonEl.style.display =\n",
              "          google.colab.kernel.accessAllowed ? 'block' : 'none';\n",
              "\n",
              "        async function convertToInteractive(key) {\n",
              "          const element = document.querySelector('#df-6cd3ebd4-3da8-4e4e-9a2c-0a90a4978405');\n",
              "          const dataTable =\n",
              "            await google.colab.kernel.invokeFunction('convertToInteractive',\n",
              "                                                     [key], {});\n",
              "          if (!dataTable) return;\n",
              "\n",
              "          const docLinkHtml = 'Like what you see? Visit the ' +\n",
              "            '<a target=\"_blank\" href=https://colab.research.google.com/notebooks/data_table.ipynb>data table notebook</a>'\n",
              "            + ' to learn more about interactive tables.';\n",
              "          element.innerHTML = '';\n",
              "          dataTable['output_type'] = 'display_data';\n",
              "          await google.colab.output.renderOutput(dataTable, element);\n",
              "          const docLink = document.createElement('div');\n",
              "          docLink.innerHTML = docLinkHtml;\n",
              "          element.appendChild(docLink);\n",
              "        }\n",
              "      </script>\n",
              "    </div>\n",
              "  </div>\n",
              "  "
            ]
          },
          "metadata": {},
          "execution_count": 4
        }
      ]
    },
    {
      "cell_type": "code",
      "source": [
        "Test_df = pd.read_csv('/content/drive/MyDrive/dmt/test.csv')\n",
        "Test_df.head()"
      ],
      "metadata": {
        "colab": {
          "base_uri": "https://localhost:8080/",
          "height": 300
        },
        "id": "t3SQKEqVNcW5",
        "outputId": "15cfd224-4ba1-4508-b251-2b2128cc2f03"
      },
      "execution_count": null,
      "outputs": [
        {
          "output_type": "execute_result",
          "data": {
            "text/plain": [
              "  ID_code    var_0    var_1    var_2   var_3    var_4   var_5   var_6  \\\n",
              "0  test_0  11.0656   7.7798  12.9536  9.4292  11.4327 -2.3805  5.8493   \n",
              "1  test_1   8.5304   1.2543  11.3047  5.1858   9.1974 -4.0117  6.0196   \n",
              "2  test_2   5.4827 -10.3581  10.1407  7.0479  10.2628  9.8052  4.8950   \n",
              "3  test_3   8.5374  -1.3222  12.0220  6.5749   8.8458  3.1744  4.9397   \n",
              "4  test_4  11.7058  -0.1327  14.1295  7.7506   9.1035 -8.5848  6.8595   \n",
              "\n",
              "     var_7   var_8  ...  var_190  var_191  var_192  var_193  var_194  var_195  \\\n",
              "0  18.2675  2.1337  ...  -2.1556  11.8495  -1.4300   2.4508  13.7112   2.4669   \n",
              "1  18.6316 -4.4131  ...  10.6165   8.8349   0.9403  10.1282  15.5765   0.4773   \n",
              "2  20.2537  1.5233  ...  -0.7484  10.9935   1.9803   2.1800  12.9813   2.1281   \n",
              "3  20.5660  3.3755  ...   9.5702   9.0766   1.6580   3.5813  15.1874   3.1656   \n",
              "4  10.6048  2.9890  ...   4.2259   9.1723   1.2835   3.3778  19.5542  -0.2860   \n",
              "\n",
              "   var_196  var_197  var_198  var_199  \n",
              "0   4.3654  10.7200  15.4722  -8.7197  \n",
              "1  -1.4852   9.8714  19.1293 -20.9760  \n",
              "2  -7.1086   7.0618  19.8956 -23.1794  \n",
              "3   3.9567   9.2295  13.0168  -4.2108  \n",
              "4  -5.1612   7.2882  13.9260  -9.1846  \n",
              "\n",
              "[5 rows x 201 columns]"
            ],
            "text/html": [
              "\n",
              "  <div id=\"df-8d6e8448-2a53-4c74-b9ad-f5979054344b\">\n",
              "    <div class=\"colab-df-container\">\n",
              "      <div>\n",
              "<style scoped>\n",
              "    .dataframe tbody tr th:only-of-type {\n",
              "        vertical-align: middle;\n",
              "    }\n",
              "\n",
              "    .dataframe tbody tr th {\n",
              "        vertical-align: top;\n",
              "    }\n",
              "\n",
              "    .dataframe thead th {\n",
              "        text-align: right;\n",
              "    }\n",
              "</style>\n",
              "<table border=\"1\" class=\"dataframe\">\n",
              "  <thead>\n",
              "    <tr style=\"text-align: right;\">\n",
              "      <th></th>\n",
              "      <th>ID_code</th>\n",
              "      <th>var_0</th>\n",
              "      <th>var_1</th>\n",
              "      <th>var_2</th>\n",
              "      <th>var_3</th>\n",
              "      <th>var_4</th>\n",
              "      <th>var_5</th>\n",
              "      <th>var_6</th>\n",
              "      <th>var_7</th>\n",
              "      <th>var_8</th>\n",
              "      <th>...</th>\n",
              "      <th>var_190</th>\n",
              "      <th>var_191</th>\n",
              "      <th>var_192</th>\n",
              "      <th>var_193</th>\n",
              "      <th>var_194</th>\n",
              "      <th>var_195</th>\n",
              "      <th>var_196</th>\n",
              "      <th>var_197</th>\n",
              "      <th>var_198</th>\n",
              "      <th>var_199</th>\n",
              "    </tr>\n",
              "  </thead>\n",
              "  <tbody>\n",
              "    <tr>\n",
              "      <th>0</th>\n",
              "      <td>test_0</td>\n",
              "      <td>11.0656</td>\n",
              "      <td>7.7798</td>\n",
              "      <td>12.9536</td>\n",
              "      <td>9.4292</td>\n",
              "      <td>11.4327</td>\n",
              "      <td>-2.3805</td>\n",
              "      <td>5.8493</td>\n",
              "      <td>18.2675</td>\n",
              "      <td>2.1337</td>\n",
              "      <td>...</td>\n",
              "      <td>-2.1556</td>\n",
              "      <td>11.8495</td>\n",
              "      <td>-1.4300</td>\n",
              "      <td>2.4508</td>\n",
              "      <td>13.7112</td>\n",
              "      <td>2.4669</td>\n",
              "      <td>4.3654</td>\n",
              "      <td>10.7200</td>\n",
              "      <td>15.4722</td>\n",
              "      <td>-8.7197</td>\n",
              "    </tr>\n",
              "    <tr>\n",
              "      <th>1</th>\n",
              "      <td>test_1</td>\n",
              "      <td>8.5304</td>\n",
              "      <td>1.2543</td>\n",
              "      <td>11.3047</td>\n",
              "      <td>5.1858</td>\n",
              "      <td>9.1974</td>\n",
              "      <td>-4.0117</td>\n",
              "      <td>6.0196</td>\n",
              "      <td>18.6316</td>\n",
              "      <td>-4.4131</td>\n",
              "      <td>...</td>\n",
              "      <td>10.6165</td>\n",
              "      <td>8.8349</td>\n",
              "      <td>0.9403</td>\n",
              "      <td>10.1282</td>\n",
              "      <td>15.5765</td>\n",
              "      <td>0.4773</td>\n",
              "      <td>-1.4852</td>\n",
              "      <td>9.8714</td>\n",
              "      <td>19.1293</td>\n",
              "      <td>-20.9760</td>\n",
              "    </tr>\n",
              "    <tr>\n",
              "      <th>2</th>\n",
              "      <td>test_2</td>\n",
              "      <td>5.4827</td>\n",
              "      <td>-10.3581</td>\n",
              "      <td>10.1407</td>\n",
              "      <td>7.0479</td>\n",
              "      <td>10.2628</td>\n",
              "      <td>9.8052</td>\n",
              "      <td>4.8950</td>\n",
              "      <td>20.2537</td>\n",
              "      <td>1.5233</td>\n",
              "      <td>...</td>\n",
              "      <td>-0.7484</td>\n",
              "      <td>10.9935</td>\n",
              "      <td>1.9803</td>\n",
              "      <td>2.1800</td>\n",
              "      <td>12.9813</td>\n",
              "      <td>2.1281</td>\n",
              "      <td>-7.1086</td>\n",
              "      <td>7.0618</td>\n",
              "      <td>19.8956</td>\n",
              "      <td>-23.1794</td>\n",
              "    </tr>\n",
              "    <tr>\n",
              "      <th>3</th>\n",
              "      <td>test_3</td>\n",
              "      <td>8.5374</td>\n",
              "      <td>-1.3222</td>\n",
              "      <td>12.0220</td>\n",
              "      <td>6.5749</td>\n",
              "      <td>8.8458</td>\n",
              "      <td>3.1744</td>\n",
              "      <td>4.9397</td>\n",
              "      <td>20.5660</td>\n",
              "      <td>3.3755</td>\n",
              "      <td>...</td>\n",
              "      <td>9.5702</td>\n",
              "      <td>9.0766</td>\n",
              "      <td>1.6580</td>\n",
              "      <td>3.5813</td>\n",
              "      <td>15.1874</td>\n",
              "      <td>3.1656</td>\n",
              "      <td>3.9567</td>\n",
              "      <td>9.2295</td>\n",
              "      <td>13.0168</td>\n",
              "      <td>-4.2108</td>\n",
              "    </tr>\n",
              "    <tr>\n",
              "      <th>4</th>\n",
              "      <td>test_4</td>\n",
              "      <td>11.7058</td>\n",
              "      <td>-0.1327</td>\n",
              "      <td>14.1295</td>\n",
              "      <td>7.7506</td>\n",
              "      <td>9.1035</td>\n",
              "      <td>-8.5848</td>\n",
              "      <td>6.8595</td>\n",
              "      <td>10.6048</td>\n",
              "      <td>2.9890</td>\n",
              "      <td>...</td>\n",
              "      <td>4.2259</td>\n",
              "      <td>9.1723</td>\n",
              "      <td>1.2835</td>\n",
              "      <td>3.3778</td>\n",
              "      <td>19.5542</td>\n",
              "      <td>-0.2860</td>\n",
              "      <td>-5.1612</td>\n",
              "      <td>7.2882</td>\n",
              "      <td>13.9260</td>\n",
              "      <td>-9.1846</td>\n",
              "    </tr>\n",
              "  </tbody>\n",
              "</table>\n",
              "<p>5 rows × 201 columns</p>\n",
              "</div>\n",
              "      <button class=\"colab-df-convert\" onclick=\"convertToInteractive('df-8d6e8448-2a53-4c74-b9ad-f5979054344b')\"\n",
              "              title=\"Convert this dataframe to an interactive table.\"\n",
              "              style=\"display:none;\">\n",
              "        \n",
              "  <svg xmlns=\"http://www.w3.org/2000/svg\" height=\"24px\"viewBox=\"0 0 24 24\"\n",
              "       width=\"24px\">\n",
              "    <path d=\"M0 0h24v24H0V0z\" fill=\"none\"/>\n",
              "    <path d=\"M18.56 5.44l.94 2.06.94-2.06 2.06-.94-2.06-.94-.94-2.06-.94 2.06-2.06.94zm-11 1L8.5 8.5l.94-2.06 2.06-.94-2.06-.94L8.5 2.5l-.94 2.06-2.06.94zm10 10l.94 2.06.94-2.06 2.06-.94-2.06-.94-.94-2.06-.94 2.06-2.06.94z\"/><path d=\"M17.41 7.96l-1.37-1.37c-.4-.4-.92-.59-1.43-.59-.52 0-1.04.2-1.43.59L10.3 9.45l-7.72 7.72c-.78.78-.78 2.05 0 2.83L4 21.41c.39.39.9.59 1.41.59.51 0 1.02-.2 1.41-.59l7.78-7.78 2.81-2.81c.8-.78.8-2.07 0-2.86zM5.41 20L4 18.59l7.72-7.72 1.47 1.35L5.41 20z\"/>\n",
              "  </svg>\n",
              "      </button>\n",
              "      \n",
              "  <style>\n",
              "    .colab-df-container {\n",
              "      display:flex;\n",
              "      flex-wrap:wrap;\n",
              "      gap: 12px;\n",
              "    }\n",
              "\n",
              "    .colab-df-convert {\n",
              "      background-color: #E8F0FE;\n",
              "      border: none;\n",
              "      border-radius: 50%;\n",
              "      cursor: pointer;\n",
              "      display: none;\n",
              "      fill: #1967D2;\n",
              "      height: 32px;\n",
              "      padding: 0 0 0 0;\n",
              "      width: 32px;\n",
              "    }\n",
              "\n",
              "    .colab-df-convert:hover {\n",
              "      background-color: #E2EBFA;\n",
              "      box-shadow: 0px 1px 2px rgba(60, 64, 67, 0.3), 0px 1px 3px 1px rgba(60, 64, 67, 0.15);\n",
              "      fill: #174EA6;\n",
              "    }\n",
              "\n",
              "    [theme=dark] .colab-df-convert {\n",
              "      background-color: #3B4455;\n",
              "      fill: #D2E3FC;\n",
              "    }\n",
              "\n",
              "    [theme=dark] .colab-df-convert:hover {\n",
              "      background-color: #434B5C;\n",
              "      box-shadow: 0px 1px 3px 1px rgba(0, 0, 0, 0.15);\n",
              "      filter: drop-shadow(0px 1px 2px rgba(0, 0, 0, 0.3));\n",
              "      fill: #FFFFFF;\n",
              "    }\n",
              "  </style>\n",
              "\n",
              "      <script>\n",
              "        const buttonEl =\n",
              "          document.querySelector('#df-8d6e8448-2a53-4c74-b9ad-f5979054344b button.colab-df-convert');\n",
              "        buttonEl.style.display =\n",
              "          google.colab.kernel.accessAllowed ? 'block' : 'none';\n",
              "\n",
              "        async function convertToInteractive(key) {\n",
              "          const element = document.querySelector('#df-8d6e8448-2a53-4c74-b9ad-f5979054344b');\n",
              "          const dataTable =\n",
              "            await google.colab.kernel.invokeFunction('convertToInteractive',\n",
              "                                                     [key], {});\n",
              "          if (!dataTable) return;\n",
              "\n",
              "          const docLinkHtml = 'Like what you see? Visit the ' +\n",
              "            '<a target=\"_blank\" href=https://colab.research.google.com/notebooks/data_table.ipynb>data table notebook</a>'\n",
              "            + ' to learn more about interactive tables.';\n",
              "          element.innerHTML = '';\n",
              "          dataTable['output_type'] = 'display_data';\n",
              "          await google.colab.output.renderOutput(dataTable, element);\n",
              "          const docLink = document.createElement('div');\n",
              "          docLink.innerHTML = docLinkHtml;\n",
              "          element.appendChild(docLink);\n",
              "        }\n",
              "      </script>\n",
              "    </div>\n",
              "  </div>\n",
              "  "
            ]
          },
          "metadata": {},
          "execution_count": 5
        }
      ]
    },
    {
      "cell_type": "markdown",
      "source": [
        "## Defining the clusters and test size from the dataset"
      ],
      "metadata": {
        "id": "kV2psDpT4IBJ"
      }
    },
    {
      "cell_type": "code",
      "source": [
        "n_clusters = 5\n",
        "test_size = 0.3"
      ],
      "metadata": {
        "id": "6nqUc_ihN5Xr"
      },
      "execution_count": null,
      "outputs": []
    },
    {
      "cell_type": "markdown",
      "source": [
        "Splitting train_df into train and test sets (X_train, X_test, Y_train, Y_test)"
      ],
      "metadata": {
        "id": "AXSTTCLlOPcw"
      }
    },
    {
      "cell_type": "code",
      "source": [
        "y_df = Train_df['target']\n",
        "Train_df.drop(columns=['target'], inplace=True)\n",
        "\n"
      ],
      "metadata": {
        "id": "hRi2hXm2OLVL"
      },
      "execution_count": null,
      "outputs": []
    },
    {
      "cell_type": "code",
      "source": [
        "X_train, X_test, y_train, y_test = train_test_split(Train_df, y_df, test_size=test_size, random_state=40)"
      ],
      "metadata": {
        "id": "9UZ8d6e2Oi8i"
      },
      "execution_count": null,
      "outputs": []
    },
    {
      "cell_type": "code",
      "source": [
        "len(X_train), len(y_train)\n"
      ],
      "metadata": {
        "colab": {
          "base_uri": "https://localhost:8080/"
        },
        "id": "mYm9lwsJPC2O",
        "outputId": "0aeb97af-ab26-40ce-967a-a758dfdea05c"
      },
      "execution_count": null,
      "outputs": [
        {
          "output_type": "execute_result",
          "data": {
            "text/plain": [
              "(140000, 140000)"
            ]
          },
          "metadata": {},
          "execution_count": 9
        }
      ]
    },
    {
      "cell_type": "code",
      "source": [
        "columns = [i for i in X_train.columns if i not in ['ID_code']]"
      ],
      "metadata": {
        "id": "dNtF07SYPsCB"
      },
      "execution_count": null,
      "outputs": []
    },
    {
      "cell_type": "markdown",
      "source": [
        "## **We augment the dataset to oversample the positive examples to deal with class imbalance**"
      ],
      "metadata": {
        "id": "B2i-8T3fQraH"
      }
    },
    {
      "cell_type": "code",
      "source": [
        "def augment(x,y,t=2):\n",
        "    xs,xn = [],[]\n",
        "    for i in range(t):\n",
        "        mask = y>0\n",
        "        x1 = x[mask].copy()\n",
        "        ids = np.arange(x1.shape[0])\n",
        "        for c in range(x1.shape[1]):\n",
        "            np.random.shuffle(ids)\n",
        "            x1[:,c] = x1[ids][:,c]\n",
        "        xs.append(x1)\n",
        "\n",
        "    for i in range(t//2):\n",
        "        mask = y==0\n",
        "        x1 = x[mask].copy()\n",
        "        ids = np.arange(x1.shape[0])\n",
        "        for c in range(x1.shape[1]):\n",
        "            np.random.shuffle(ids)\n",
        "            x1[:,c] = x1[ids][:,c]\n",
        "        xn.append(x1)\n",
        "\n",
        "    xs = np.vstack(xs)\n",
        "    xn = np.vstack(xn)\n",
        "    ys = np.ones(xs.shape[0])\n",
        "    yn = np.zeros(xn.shape[0])\n",
        "    x = np.vstack([x,xs,xn])\n",
        "    y = np.concatenate([y,ys,yn])\n",
        "    return x,y"
      ],
      "metadata": {
        "id": "7gu8PyG9Pw6C"
      },
      "execution_count": null,
      "outputs": []
    },
    {
      "cell_type": "markdown",
      "source": [
        "## Kmeans clustering of the data into n_clusters. Data is augmented with a column called 'clusters'."
      ],
      "metadata": {
        "id": "0LfnIGlBRo7p"
      }
    },
    {
      "cell_type": "code",
      "source": [
        "kmeans = KMeans(n_clusters=n_clusters, max_iter=1000).fit(X_train[columns])\n",
        "X_train[\"clusters\"] = kmeans.labels_"
      ],
      "metadata": {
        "id": "PONHLvteRZ24"
      },
      "execution_count": null,
      "outputs": []
    },
    {
      "cell_type": "markdown",
      "source": [
        "cluster_idxs is a list containing indices of data belonging to a cluster."
      ],
      "metadata": {
        "id": "bFdQLewztxle"
      }
    },
    {
      "cell_type": "code",
      "source": [
        "cluster_idxs = [X_train[\"clusters\"] == i for i in range(5)]"
      ],
      "metadata": {
        "id": "AwkIT9cHRvZ-"
      },
      "execution_count": null,
      "outputs": []
    },
    {
      "cell_type": "code",
      "source": [
        "import lightgbm as lgb\n",
        "from sklearn.model_selection import KFold, StratifiedKFold"
      ],
      "metadata": {
        "id": "rMQ3H22Yt774"
      },
      "execution_count": null,
      "outputs": []
    },
    {
      "cell_type": "code",
      "source": [
        "param = {\n",
        "    'bagging_freq': 5,\n",
        "    'bagging_fraction': 0.1,\n",
        "    'boost_from_average':'false',\n",
        "    'boost': 'gbdt',\n",
        "    'feature_fraction': 0.05,\n",
        "    'learning_rate': 0.01,\n",
        "    'max_depth': -1,  \n",
        "    'metric':'auc',\n",
        "    'min_data_in_leaf': 80,\n",
        "    'min_sum_hessian_in_leaf': 10.0,\n",
        "    'num_leaves': 4,\n",
        "    'num_threads': 8,\n",
        "    'tree_learner': 'serial',\n",
        "    'objective': 'binary', \n",
        "    'verbosity': 1,\n",
        "    'max_bin': 50,\n",
        "}"
      ],
      "metadata": {
        "id": "5Z7ysufxt_dv"
      },
      "execution_count": null,
      "outputs": []
    },
    {
      "cell_type": "code",
      "source": [
        "predictors = []\n",
        "\n",
        "for i in range(n_clusters):\n",
        "  print(\"TRAINING MODEL FOR CLUSTER: {}\".format(i))\n",
        "  x_i = X_train[cluster_idxs[i]]\n",
        "  y_i = y_train[cluster_idxs[i]]\n",
        "  num_folds = 3\n",
        "  features = [c for c in x_i.columns if c not in ['ID_code', 'clusters', 'target']]\n",
        "  folds = KFold(n_splits=num_folds)\n",
        "\n",
        "  x_i = x_i[features]\n",
        "\n",
        "  for fold_, (trn_idx, val_idx) in enumerate(folds.split(x_i.values, y_i.values)):\n",
        "    X_trai, y_trai = x_i.iloc[trn_idx][features], y_i.iloc[trn_idx]\n",
        "    X_val, y_val = x_i.iloc[val_idx][features], y_i.iloc[val_idx]\n",
        "\n",
        "    X_trai, y_trai = augment(X_trai.values, y_trai.values)\n",
        "    X_trai = pd.DataFrame(X_trai)\n",
        "\n",
        "    print(\"Fold idx:{}\".format(fold_ + 1))\n",
        "    trn_data = lgb.Dataset(X_trai, label=y_trai)\n",
        "    val_data = lgb.Dataset(X_val, label=y_val)\n",
        "\n",
        "    clf = lgb.train(param, trn_data, 1000000, valid_sets = [trn_data, val_data], verbose_eval=5000, early_stopping_rounds = 3000)\n",
        "    predictors.append(clf)"
      ],
      "metadata": {
        "colab": {
          "base_uri": "https://localhost:8080/"
        },
        "id": "Qh7cVrtMuGq3",
        "outputId": "5fcaf5f0-5ffe-4cd1-c6a3-57e4b22f1231"
      },
      "execution_count": null,
      "outputs": [
        {
          "output_type": "stream",
          "name": "stdout",
          "text": [
            "TRAINING MODEL FOR CLUSTER: 0\n",
            "Fold idx:1\n",
            "Training until validation scores don't improve for 3000 rounds.\n",
            "[5000]\ttraining's auc: 0.934163\tvalid_1's auc: 0.882707\n",
            "Early stopping, best iteration is:\n",
            "[6968]\ttraining's auc: 0.940696\tvalid_1's auc: 0.884708\n",
            "Fold idx:2\n",
            "Training until validation scores don't improve for 3000 rounds.\n",
            "[5000]\ttraining's auc: 0.930242\tvalid_1's auc: 0.886937\n",
            "[10000]\ttraining's auc: 0.944928\tvalid_1's auc: 0.887534\n",
            "Early stopping, best iteration is:\n",
            "[7885]\ttraining's auc: 0.939362\tvalid_1's auc: 0.88838\n",
            "Fold idx:3\n",
            "Training until validation scores don't improve for 3000 rounds.\n",
            "[5000]\ttraining's auc: 0.932368\tvalid_1's auc: 0.881914\n",
            "Early stopping, best iteration is:\n",
            "[5798]\ttraining's auc: 0.935346\tvalid_1's auc: 0.882333\n",
            "TRAINING MODEL FOR CLUSTER: 1\n",
            "Fold idx:1\n",
            "Training until validation scores don't improve for 3000 rounds.\n",
            "[5000]\ttraining's auc: 0.933167\tvalid_1's auc: 0.885566\n",
            "[10000]\ttraining's auc: 0.947201\tvalid_1's auc: 0.886884\n",
            "Early stopping, best iteration is:\n",
            "[9769]\ttraining's auc: 0.946618\tvalid_1's auc: 0.88709\n",
            "Fold idx:2\n",
            "Training until validation scores don't improve for 3000 rounds.\n",
            "[5000]\ttraining's auc: 0.932644\tvalid_1's auc: 0.888859\n",
            "Early stopping, best iteration is:\n",
            "[5343]\ttraining's auc: 0.93385\tvalid_1's auc: 0.889372\n",
            "Fold idx:3\n",
            "Training until validation scores don't improve for 3000 rounds.\n",
            "[5000]\ttraining's auc: 0.933177\tvalid_1's auc: 0.888162\n",
            "Early stopping, best iteration is:\n",
            "[4869]\ttraining's auc: 0.932698\tvalid_1's auc: 0.888711\n",
            "TRAINING MODEL FOR CLUSTER: 2\n",
            "Fold idx:1\n",
            "Training until validation scores don't improve for 3000 rounds.\n",
            "[5000]\ttraining's auc: 0.93083\tvalid_1's auc: 0.889549\n",
            "Early stopping, best iteration is:\n",
            "[6032]\ttraining's auc: 0.934245\tvalid_1's auc: 0.890231\n",
            "Fold idx:2\n",
            "Training until validation scores don't improve for 3000 rounds.\n",
            "[5000]\ttraining's auc: 0.935129\tvalid_1's auc: 0.882342\n",
            "[10000]\ttraining's auc: 0.949001\tvalid_1's auc: 0.882836\n",
            "Early stopping, best iteration is:\n",
            "[7435]\ttraining's auc: 0.942715\tvalid_1's auc: 0.883718\n",
            "Fold idx:3\n",
            "Training until validation scores don't improve for 3000 rounds.\n",
            "[5000]\ttraining's auc: 0.931363\tvalid_1's auc: 0.886852\n",
            "[10000]\ttraining's auc: 0.946106\tvalid_1's auc: 0.88671\n",
            "Early stopping, best iteration is:\n",
            "[7410]\ttraining's auc: 0.939247\tvalid_1's auc: 0.887964\n",
            "TRAINING MODEL FOR CLUSTER: 3\n",
            "Fold idx:1\n",
            "Training until validation scores don't improve for 3000 rounds.\n",
            "[5000]\ttraining's auc: 0.927414\tvalid_1's auc: 0.879709\n",
            "[10000]\ttraining's auc: 0.941592\tvalid_1's auc: 0.879195\n",
            "Early stopping, best iteration is:\n",
            "[7225]\ttraining's auc: 0.93431\tvalid_1's auc: 0.879964\n",
            "Fold idx:2\n",
            "Training until validation scores don't improve for 3000 rounds.\n",
            "[5000]\ttraining's auc: 0.928685\tvalid_1's auc: 0.880245\n",
            "Early stopping, best iteration is:\n",
            "[6453]\ttraining's auc: 0.933229\tvalid_1's auc: 0.881485\n",
            "Fold idx:3\n",
            "Training until validation scores don't improve for 3000 rounds.\n",
            "[5000]\ttraining's auc: 0.927079\tvalid_1's auc: 0.887345\n",
            "Early stopping, best iteration is:\n",
            "[5931]\ttraining's auc: 0.930376\tvalid_1's auc: 0.887877\n",
            "TRAINING MODEL FOR CLUSTER: 4\n",
            "Fold idx:1\n",
            "Training until validation scores don't improve for 3000 rounds.\n",
            "[5000]\ttraining's auc: 0.926249\tvalid_1's auc: 0.878646\n",
            "Early stopping, best iteration is:\n",
            "[6844]\ttraining's auc: 0.931426\tvalid_1's auc: 0.879541\n",
            "Fold idx:2\n",
            "Training until validation scores don't improve for 3000 rounds.\n",
            "[5000]\ttraining's auc: 0.923972\tvalid_1's auc: 0.887876\n",
            "[10000]\ttraining's auc: 0.936572\tvalid_1's auc: 0.888918\n",
            "Early stopping, best iteration is:\n",
            "[7719]\ttraining's auc: 0.931354\tvalid_1's auc: 0.889603\n",
            "Fold idx:3\n",
            "Training until validation scores don't improve for 3000 rounds.\n",
            "[5000]\ttraining's auc: 0.920693\tvalid_1's auc: 0.89803\n",
            "[10000]\ttraining's auc: 0.934263\tvalid_1's auc: 0.899303\n",
            "Early stopping, best iteration is:\n",
            "[8126]\ttraining's auc: 0.92985\tvalid_1's auc: 0.899892\n"
          ]
        }
      ]
    },
    {
      "cell_type": "markdown",
      "source": [
        "Get the predictions on the Test sets:¶\n",
        "\n"
      ],
      "metadata": {
        "id": "D9MxSAvmv03N"
      }
    },
    {
      "cell_type": "code",
      "source": [
        "def get_predictions(kmeans, X_test, n_clusters, get_score=True):\n",
        "    features = [c for c in X_test.columns if c not in ['ID_code', 'target']]\n",
        "    X_test['cluster'] = kmeans.predict(X_test[features])\n",
        "    test_idxs = [X_test['cluster'] == i for i in range(n_clusters)]\n",
        "    X_test.drop(columns=['cluster'], inplace=True)\n",
        "    preds = []\n",
        "    true = []\n",
        "\n",
        "    for i in range(n_clusters):\n",
        "        x_te = X_test[test_idxs[i]]\n",
        "        pred = predictors[i].predict(x_te[features])\n",
        "        preds.append(pred)\n",
        "        if get_score:\n",
        "            y_te = y_test[test_idxs[i]]\n",
        "            true.append(y_te.values)\n",
        "    x = []\n",
        "    y = []\n",
        "    for i in preds:\n",
        "        x = x + list(i)\n",
        "    if get_score:\n",
        "        for i in true:\n",
        "            y = y + list(i)\n",
        "        print(roc_auc_score( np.array(y), np.array(x)))\n",
        "    \n",
        "    return np.array(x),x,y"
      ],
      "metadata": {
        "id": "B-8gL1pnv0Yg"
      },
      "execution_count": null,
      "outputs": []
    },
    {
      "cell_type": "markdown",
      "source": [
        "## **AUC score on our sampled test set**"
      ],
      "metadata": {
        "id": "RnxBYYIJwX4x"
      }
    },
    {
      "cell_type": "code",
      "source": [
        "a,pred,true=get_predictions(kmeans, X_test, n_clusters = 5, get_score=True)\n"
      ],
      "metadata": {
        "id": "v6mpAZbGwbB0",
        "colab": {
          "base_uri": "https://localhost:8080/"
        },
        "outputId": "df327dc5-eb5b-497f-b1c2-f33704f0fecc"
      },
      "execution_count": null,
      "outputs": [
        {
          "output_type": "stream",
          "name": "stdout",
          "text": [
            "0.8808116267896128\n"
          ]
        }
      ]
    },
    {
      "cell_type": "code",
      "source": [
        "f=[]\n",
        "for i in pred:\n",
        "  if i>0.6:\n",
        "    f.append(1)\n",
        "  else:\n",
        "    f.append(0)  "
      ],
      "metadata": {
        "id": "Ums9yD_oAner"
      },
      "execution_count": null,
      "outputs": []
    },
    {
      "cell_type": "code",
      "source": [
        "f1_score(true,f)"
      ],
      "metadata": {
        "colab": {
          "base_uri": "https://localhost:8080/"
        },
        "id": "tljMcSbOCZf4",
        "outputId": "952a85a6-6982-4118-b62d-bc4bfb1148af"
      },
      "execution_count": null,
      "outputs": [
        {
          "output_type": "execute_result",
          "data": {
            "text/plain": [
              "0.3628604681236261"
            ]
          },
          "metadata": {},
          "execution_count": 64
        }
      ]
    },
    {
      "cell_type": "code",
      "source": [],
      "metadata": {
        "id": "LUI2genwDMYO"
      },
      "execution_count": null,
      "outputs": []
    }
  ]
}